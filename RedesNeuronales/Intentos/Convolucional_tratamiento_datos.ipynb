{
  "nbformat": 4,
  "nbformat_minor": 0,
  "metadata": {
    "colab": {
      "name": "Convolucional_tratamiento_datos.ipynb",
      "provenance": [],
      "collapsed_sections": []
    },
    "kernelspec": {
      "name": "python3",
      "display_name": "Python 3"
    }
  },
  "cells": [
    {
      "cell_type": "code",
      "metadata": {
        "id": "BY0p33JKroTh"
      },
      "source": [
        "import numpy as np\n",
        "import tensorflow as tf\n",
        "from tensorflow import keras\n",
        "from tensorflow.keras import layers\n",
        "import time\n",
        "\n",
        "from sklearn.feature_selection import VarianceThreshold\n",
        "import matplotlib.pyplot as plt\n",
        "from sklearn.preprocessing import PolynomialFeatures"
      ],
      "execution_count": null,
      "outputs": []
    },
    {
      "cell_type": "code",
      "metadata": {
        "colab": {
          "base_uri": "https://localhost:8080/",
          "height": 615
        },
        "id": "hL_1_yPgnS_M",
        "outputId": "4a71ec51-4c8c-4289-faec-45500200b506"
      },
      "source": [
        "# the data, split between train and test sets\n",
        "(x_train, y_train), (x_test, y_test) = keras.datasets.mnist.load_data()\n",
        "\n",
        "# Scale images to the [0, 1] range\n",
        "x_train = x_train.astype(\"float32\") / 255\n",
        "x_test = x_test.astype(\"float32\") / 255\n",
        "\n",
        "x_train = np.reshape(x_train,[60000,784])\n",
        "x_test = np.reshape(x_test,[10000,784])\n",
        "\n",
        "sel = VarianceThreshold(threshold=(0.01))\n",
        "sel.fit_transform(x_train)\n",
        "array = sel.get_support()\n",
        "print('\\nLas partes negras corresponten a caracteristicas eliminadas')\n",
        "plt.imshow(array.reshape(28,28), cmap='gray')\n",
        "plt.show()\n",
        "\n",
        "\n",
        "sel.fit(x_train)\n",
        "x_train = sel.transform(x_train)\n",
        "x_test = sel.transform(x_test)\n",
        "print(\"x_train shape:\", x_train.shape)\n",
        "print(\"x_test shape:\", x_test.shape)\n",
        "\n",
        "#poly = PolynomialFeatures(1)\n",
        "#x_train= poly.fit_transform(x_train) \n",
        "#print(\"x_train shape:\", x_train.shape)"
      ],
      "execution_count": null,
      "outputs": [
        {
          "output_type": "stream",
          "text": [
            "\n",
            "Las partes negras corresponten a caracteristicas eliminadas\n"
          ],
          "name": "stdout"
        },
        {
          "output_type": "display_data",
          "data": {
            "image/png": "[encoded data removed]",
            "text/plain": [
              "<Figure size 432x288 with 1 Axes>"
            ]
          },
          "metadata": {
            "tags": [],
            "needs_background": "light"
          }
        },
        {
          "output_type": "stream",
          "text": [
            "\n",
            "Las partes negras corresponten a caracteristicas eliminadas\n"
          ],
          "name": "stdout"
        },
        {
          "output_type": "display_data",
          "data": {
            "image/png": "[encoded data removed]",
            "text/plain": [
              "<Figure size 432x288 with 1 Axes>"
            ]
          },
          "metadata": {
            "tags": [],
            "needs_background": "light"
          }
        },
        {
          "output_type": "stream",
          "text": [
            "x_train shape: (60000, 444)\n",
            "x_test shape: (10000, 444)\n"
          ],
          "name": "stdout"
        }
      ]
    },
    {
      "cell_type": "code",
      "metadata": {
        "id": "a5iLvGawxkP4"
      },
      "source": [
        "#x_train = np.resize(x_train, [60000, 484])\n",
        "#x_test = np.resize(x_test, [60000, 484])\n",
        "\n",
        "#x_train = np.resize(x_train, [60000, 22, 22])\n",
        "#x_test = np.resize(x_test, [60000, 22, 22])\n",
        "\n",
        "#print(x_train.shape, \"train samples\")\n",
        "#print(x_test.shape, \"test samples\")"
      ],
      "execution_count": null,
      "outputs": []
    },
    {
      "cell_type": "code",
      "metadata": {
        "colab": {
          "base_uri": "https://localhost:8080/"
        },
        "id": "4k_LIhnNYWS4",
        "outputId": "1eb0b97c-dfe6-4d80-e386-cbaa669f3e66"
      },
      "source": [
        "x_train = np.expand_dims(x_train, -1)\n",
        "x_test = np.expand_dims(x_test, -1)\n",
        "print(\"x_train shape:\", x_train.shape)\n",
        "print(x_train.shape[0], \"train samples\")\n",
        "print(x_test.shape[0], \"test samples\")\n",
        "\n",
        "# Model / data parameters\n",
        "num_classes = 10\n",
        "input_shape = (444, 1)\n",
        "\n",
        "# convert class vectors to binary class matrices\n",
        "y_train = keras.utils.to_categorical(y_train, num_classes)\n",
        "y_test = keras.utils.to_categorical(y_test, num_classes)"
      ],
      "execution_count": null,
      "outputs": [
        {
          "output_type": "stream",
          "text": [
            "x_train shape: (60000, 444, 1)\n",
            "60000 train samples\n",
            "10000 test samples\n"
          ],
          "name": "stdout"
        }
      ]
    },
    {
      "cell_type": "code",
      "metadata": {
        "colab": {
          "base_uri": "https://localhost:8080/"
        },
        "id": "GqyRNPX6uPEs",
        "outputId": "0e3579e2-4d2d-4695-de38-28d8309f7ad6"
      },
      "source": [
        "model = keras.Sequential(\n",
        "    [\n",
        "        keras.Input(shape=input_shape),\n",
        "        layers.Conv1D(32, kernel_size=(3), activation=\"relu\"),\n",
        "        layers.MaxPooling1D(pool_size=(3)),\n",
        "        layers.Conv1D(64, kernel_size=(3), activation=\"relu\"),\n",
        "        layers.MaxPooling1D(pool_size=(3)),\n",
        "        layers.Flatten(),\n",
        "        layers.Dropout(0.2),\n",
        "        layers.Dense(64, activation=\"relu\"),\n",
        "        layers.Dropout(0.2),\n",
        "        layers.Dense(num_classes, activation=\"softmax\"),\n",
        "    ]\n",
        ")\n",
        "\n",
        "model.summary()"
      ],
      "execution_count": null,
      "outputs": [
        {
          "output_type": "stream",
          "text": [
            "Model: \"sequential\"\n",
            "_________________________________________________________________\n",
            "Layer (type)                 Output Shape              Param #   \n",
            "=================================================================\n",
            "conv1d (Conv1D)              (None, 442, 32)           128       \n",
            "_________________________________________________________________\n",
            "max_pooling1d (MaxPooling1D) (None, 147, 32)           0         \n",
            "_________________________________________________________________\n",
            "conv1d_1 (Conv1D)            (None, 145, 64)           6208      \n",
            "_________________________________________________________________\n",
            "max_pooling1d_1 (MaxPooling1 (None, 48, 64)            0         \n",
            "_________________________________________________________________\n",
            "flatten (Flatten)            (None, 3072)              0         \n",
            "_________________________________________________________________\n",
            "dropout (Dropout)            (None, 3072)              0         \n",
            "_________________________________________________________________\n",
            "dense (Dense)                (None, 64)                196672    \n",
            "_________________________________________________________________\n",
            "dropout_1 (Dropout)          (None, 64)                0         \n",
            "_________________________________________________________________\n",
            "dense_1 (Dense)              (None, 10)                650       \n",
            "=================================================================\n",
            "Total params: 203,658\n",
            "Trainable params: 203,658\n",
            "Non-trainable params: 0\n",
            "_________________________________________________________________\n"
          ],
          "name": "stdout"
        }
      ]
    },
    {
      "cell_type": "code",
      "metadata": {
        "colab": {
          "base_uri": "https://localhost:8080/"
        },
        "id": "uwC9yCAPuVkO",
        "outputId": "357587a7-87f3-42f1-f133-a485c50d70e4"
      },
      "source": [
        "batch_size = 128\n",
        "epochs = 25\n",
        "\n",
        "model.compile(loss=\"categorical_crossentropy\", optimizer=\"adam\", metrics=[\"accuracy\"])\n",
        "\n",
        "start = time.time()\n",
        "model.fit(x_train, y_train, batch_size=batch_size, epochs=epochs, validation_split=0.1)\n",
        "end = time.time()"
      ],
      "execution_count": null,
      "outputs": [
        {
          "output_type": "stream",
          "text": [
            "Epoch 1/25\n",
            "422/422 [==============================] - 24s 56ms/step - loss: 0.3929 - accuracy: 0.8790 - val_loss: 0.1239 - val_accuracy: 0.9625\n",
            "Epoch 2/25\n",
            "422/422 [==============================] - 24s 56ms/step - loss: 0.1754 - accuracy: 0.9465 - val_loss: 0.0982 - val_accuracy: 0.9730\n",
            "Epoch 3/25\n",
            "422/422 [==============================] - 23s 55ms/step - loss: 0.1419 - accuracy: 0.9551 - val_loss: 0.0805 - val_accuracy: 0.9773\n",
            "Epoch 4/25\n",
            "422/422 [==============================] - 23s 55ms/step - loss: 0.1228 - accuracy: 0.9622 - val_loss: 0.0807 - val_accuracy: 0.9780\n",
            "Epoch 5/25\n",
            "422/422 [==============================] - 23s 55ms/step - loss: 0.1078 - accuracy: 0.9656 - val_loss: 0.0815 - val_accuracy: 0.9782\n",
            "Epoch 6/25\n",
            "422/422 [==============================] - 24s 56ms/step - loss: 0.0980 - accuracy: 0.9696 - val_loss: 0.0824 - val_accuracy: 0.9785\n",
            "Epoch 7/25\n",
            "422/422 [==============================] - 23s 56ms/step - loss: 0.0904 - accuracy: 0.9712 - val_loss: 0.0681 - val_accuracy: 0.9815\n",
            "Epoch 8/25\n",
            "422/422 [==============================] - 23s 55ms/step - loss: 0.0839 - accuracy: 0.9734 - val_loss: 0.0704 - val_accuracy: 0.9823\n",
            "Epoch 9/25\n",
            "422/422 [==============================] - 23s 55ms/step - loss: 0.0768 - accuracy: 0.9756 - val_loss: 0.0681 - val_accuracy: 0.9830\n",
            "Epoch 10/25\n",
            "422/422 [==============================] - 24s 56ms/step - loss: 0.0728 - accuracy: 0.9764 - val_loss: 0.0670 - val_accuracy: 0.9828\n",
            "Epoch 11/25\n",
            "422/422 [==============================] - 24s 56ms/step - loss: 0.0669 - accuracy: 0.9782 - val_loss: 0.0725 - val_accuracy: 0.9813\n",
            "Epoch 12/25\n",
            "422/422 [==============================] - 24s 56ms/step - loss: 0.0629 - accuracy: 0.9795 - val_loss: 0.0661 - val_accuracy: 0.9830\n",
            "Epoch 13/25\n",
            "422/422 [==============================] - 24s 57ms/step - loss: 0.0597 - accuracy: 0.9803 - val_loss: 0.0711 - val_accuracy: 0.9830\n",
            "Epoch 14/25\n",
            "422/422 [==============================] - 23s 55ms/step - loss: 0.0570 - accuracy: 0.9812 - val_loss: 0.0780 - val_accuracy: 0.9823\n",
            "Epoch 15/25\n",
            "422/422 [==============================] - 24s 56ms/step - loss: 0.0553 - accuracy: 0.9811 - val_loss: 0.0741 - val_accuracy: 0.9822\n",
            "Epoch 16/25\n",
            "422/422 [==============================] - 24s 56ms/step - loss: 0.0493 - accuracy: 0.9831 - val_loss: 0.0751 - val_accuracy: 0.9815\n",
            "Epoch 17/25\n",
            "422/422 [==============================] - 23s 55ms/step - loss: 0.0482 - accuracy: 0.9829 - val_loss: 0.0736 - val_accuracy: 0.9820\n",
            "Epoch 18/25\n",
            "422/422 [==============================] - 23s 55ms/step - loss: 0.0463 - accuracy: 0.9836 - val_loss: 0.0704 - val_accuracy: 0.9830\n",
            "Epoch 19/25\n",
            "422/422 [==============================] - 23s 55ms/step - loss: 0.0435 - accuracy: 0.9848 - val_loss: 0.0856 - val_accuracy: 0.9820\n",
            "Epoch 20/25\n",
            "422/422 [==============================] - 23s 55ms/step - loss: 0.0444 - accuracy: 0.9849 - val_loss: 0.0821 - val_accuracy: 0.9815\n",
            "Epoch 21/25\n",
            "422/422 [==============================] - 23s 55ms/step - loss: 0.0421 - accuracy: 0.9856 - val_loss: 0.0743 - val_accuracy: 0.9830\n",
            "Epoch 22/25\n",
            "422/422 [==============================] - 24s 56ms/step - loss: 0.0379 - accuracy: 0.9868 - val_loss: 0.0852 - val_accuracy: 0.9827\n",
            "Epoch 23/25\n",
            "422/422 [==============================] - 23s 55ms/step - loss: 0.0375 - accuracy: 0.9869 - val_loss: 0.0847 - val_accuracy: 0.9822\n",
            "Epoch 24/25\n",
            "422/422 [==============================] - 23s 55ms/step - loss: 0.0364 - accuracy: 0.9878 - val_loss: 0.0786 - val_accuracy: 0.9833\n",
            "Epoch 25/25\n",
            "422/422 [==============================] - 23s 55ms/step - loss: 0.0367 - accuracy: 0.9870 - val_loss: 0.0777 - val_accuracy: 0.9832\n"
          ],
          "name": "stdout"
        }
      ]
    },
    {
      "cell_type": "code",
      "metadata": {
        "colab": {
          "base_uri": "https://localhost:8080/"
        },
        "id": "EgruIzVwvZ5l",
        "outputId": "aaca5b8f-52ce-4fa8-91d8-88346c5f90cc"
      },
      "source": [
        "score_test = model.evaluate(x_test, y_test, verbose=0)\n",
        "score_train = model.evaluate(x_train, y_train, verbose=0)\n",
        "outputs = model.predict(x_test)\n",
        "\n",
        "for output in outputs:\n",
        "  print(np.argmax(output), end='')\n",
        "\n",
        "print(\"\")\n",
        "print(\"Error sobre el conjunto de prueba:\", (1-score_test[1])*100)\n",
        "print(\"Error sobre el conjunto de entrenamiento:\", (1-score_train[1])*100)\n",
        "print(\"Tiempo de entrenamiento: \"+str(round(end - start,2)))\n",
        "print(\"Epoch:\", epochs)"
      ],
      "execution_count": null,
      "outputs": [
        {
          "output_type": "stream",
          "text": [
            "7210414959069015973496654074013134727121174235124463556041957893746430702917329776278473613693141769605499219487397444925476790585665781016467317182069955156034465465451447232718181850892501110905164236111395294593903655722712841733887922415987230642419577282685779181803019941821297592641582920400284712402743300319652597930420711215339786361381051315561851794622506563720885411403376162192861952544283824503177579719214292049148184598837600302064933323912680566638827589618412591975408991052378940639521313657422632654897130383193446421825488400232710874479690980460635483393337802717065438096380996868578602402231975208462679329822927359180205613767125803784091867743491951739769133833672858511443107707944855408210845040617326726931462542062173410543117499984024511647194241553831456894193803251283440883317359632613607217142421796112481774807313107703552766928352256082928888749506632132293005781446029147473988471212232323917403558632676632791175649513347891169144540622315120381267162390122089902519781041795426813754418138125806211115346950922482172494403922338357358124464951069595973803713678597969637465854787807688733195273511214747545408369602744446647934558737270241166928720150419060868180337236216113790805402822984095851213179572038862541921587024436882405084793415973588053366016037441291469939844313108794887981456052221552496277221128372417176782731758262256509243397668041582918067210552022024980994654918349912281964094838602519629409606254238455038535865763396112904336950377787983072794549321402375988503147390006623784779241652439184038487707886048824766647188236300376979954336123733203384363502690746935196145450595212919940845292121736884919857511865244723568862310589296704871741097200917878472046031133967415308739693502745175808815030314037271807043198771499371790203376923377007529874426619682908911635111312302013557489696836685142445139024957188569871167632208925108145796906155838265074613473234252717264157860182577693584240883492758656086736494663241014629110639565658464391341917119354073617553301375865104234679818492862700675860939135433556302342309947284706085285730827282557646848274520379672511123678764894863831062256958141784618431280859242027090257679426244804458068985690487134580913369871057175279185249472234919217944367278019711753351376138759000288237130344389239711704965917020046707146454991795338236221111169843716490474240701988600496822384822175440438731012542101891683893628322104292437915249038536094625087466866869172599072767065447209922944233217076413874592518737153091406336049751689557938381535055586777370590255317786593895370170037258186295751862514845830627332107340393289038076547390862511004401232778525769141692435439501538919795527460111044763004306196138125627360197668929583100766216931869060006358345585304029682312115698066553862145437830935110447017016145665784472537077964285783958998628923611893407964141349314774729308084044152834952815379425605935921953069840492901031658153503559287049197755209186239621913550383376801406981299597378013046102584411546606926271794003822316057792677786884684128239403732337340620815354171575732273737854529653674171523031426743806216539193218446586977869739405464123002665708647907342188592718882760127108360536289014211444471629900188434206161222123781002166016251748214383994834727570433267600677055810702815088032772647559292846865008761711274007763864209405782747113665919483695962467706699835349005250711107679664143112241087634006330717113109975414895351982339901029393362998374047849899759282202238468482467933943144705960444461233647968560864186528455477078223701807198755917543122166011407424064769534650188233578085711013785071101145276230285969721364182405102264439616579202601435288088909676393477749064842728100783331376131665747595849916501370348220281516889121351094483259766200058715238518444996233564809283675429491286070911675991959250410840898942579898099689959851033521650283562302264355172169199551622867146060332236898538545205632839957946713736609019428801697534749943631196918411994368160413774951001162198403649071657525185470572258104571551900607318397008959832729721137531982228857389886823975629288168879180172075190209862393802111142978511219991020211464154977156282806961977148534349750748815395936903639821128685339492515144144359122330290099609328419972799595118351953549593190975492010514933615252209266012030255795508950325908845884548549221268870366438872200939919866426928545799921834018393465623926006128798204775056467430750742089942467876941373087769392292183296840128452781130357031935317730848265297390996429721167475988212457613259936114697215146381103168490730290666367728608302983253880019513960141712379749939282718091017796999216135719764576699636298122552372101045282835178112978405078847785849813803179551657493547120816073473960864877938697234021035572467283087890844585663093768934958912886813790114708174571211396212807669370528054384662795132436194476541992780136134111560707232522949812161278000822922999275134941856283128499370772324039984106096861198923559421943960406012347890123478901234567898347863409719384730914546206211117247529458429700751176668227740242189610596980508396301234567012345678901234567854874773988315827421545586444187551891363322699655338165681976837470900379302010104010479626229901234567890123456789012345678980566080237947191714004175713336697430252608943548159064363381475722001779598968823612989526248465015678901234567890123456789742090158802784461045394205013298601180477636073542418356706712581938287671462930123456701234501289140950807711293672381298871711034264742749106855535974859693038918160012345678901234567890123456789353293214552321397252891887810037875061574612507990384481865900037164266045413863995937856476220940123456789012756012345687132607599609413212383265682748180539419219679046173872965839057161093344062542346002014569890123456780123456789871375280759909115886321832656941053192196046173892965835716109625423446002012343678901234567890129456789865068941939048914053215407601706895179860817713231420078464938472563696322469025513397872257982191301234567890123456783012345678918653070414367231212960130275762919060602061584301544857578348852971381075969477993443862012345678901234567890123456789083955268491712359691112956812077582989046713456036870427475434281512025643000335706488634699827710123456789012345678012345678217250802788360276612887747737454338411974373302556635659984106096885611989235594219392060400123478901237890123478973031876402683281207104458062315185940758838926253173919960392814352925895012456712345671234510456634428102497233920933915237784024024780706432867575108157297958626281750113249186850123456789012347898178998984177337666190176321713917684143696144724401234567890123456901234781351772148344397412359160100297114047368037406926586904066920951376930220123456789012345678901234567892172508027883060276412887747737454338454119743733025563152599841060968856119892355942194913920604060123456789012345678901234567893807107556901008343150095349376924572649494122581329438221286516721393875707488506637699484106601234567890123456789012345678974040179514289437824433699586706826393286174889033905294103758778297126425236650028161043161901456789123456701234567898400724386632633514780319019127015829276559982913234319093687010582770123456789012345678901234567891748156572863386540917291513223064376904814061269223551077962947023400888513749889098902656747541353123456123460124567817241414968453788335670616870150850158423976919067123928553753182230294970274992598386700123456789012345678901234567890072655378666643883019054191270138292742655991157682943190936870105827701234567890123458901234567892121399853707757994703415814841866460553357259692621208383087495097004609162768352183861021401234567890123456789012345678976476234878698322848565020112968210652975393718381955011982604503186759930314404901235678012356789012356789970901588093278461049420501693291601188863607241706812581828768716293012345678901234567890123456789895703168415642781343472050192323557849971190783486380962801062389072345528546667918215347940001239867890123456789012345690131518498468011926687429702103601234567890123456789012345678986597023438515230121326530727464059989531747654006620637744392896095388714048523901915174862168801234789012346789012347891453309549084670771691362382389588717110342647422429279210653485969063081600123456701234789012347251643990971643620986570017432413764777984352835805471317962091733916439821864155650123456789012345678901234567896970234385130121320726405998953174700666379289871904852390191517612168012345678901234567801235678104566344281064972920933915231673784024024780706932486057510816729795652628175573501138494518689012345678901234567890123456789353293214552321397212891887810067787506157461250799034484186590003716460454138639959378564762209401234567890123456789012345678964264755472939382095601065353800341530830627817138542097674162671980694996237192253780123478901234789017898926135482643459203949738744985826623132731901135078151460049166907611012342234562012786392193961724457001668277242161069839630123456789012345678901234567891689901244374440387582175385251162138642625502806817919267668749213305580379702791780353601234567890123456789012347896426478929393001042635303415308306178092671969499671253780124567890134567801347897551997100597172236832006175862948871087758534611550723641241542048619025693636012345678901234567890123567810957518690419384470192878239606553339811061006211327788784602070368715993724943622532539417201234567890123456789012345678410127534400696657234491407957231440996183373988477621987887223933550745651411282615012345678901234567890123456788060823794719171400175713331697130760894354815906338147520017846882351895201234567890123456789012346678974614099378075863220586038103047492907171665628764995374309661132100123478901234567801234789083955268417173569111212077582986734687042775434281510233570680399827710178901074567801234789786419384470192878260653339140610062117784607036871524943641736601234567890123456\n",
            "Error sobre el conjunto de prueba: 1.8499970436096191\n",
            "Error sobre el conjunto de entrenamiento: 0.3166675567626953\n",
            "Tiempo de entrenamiento: 587.77\n",
            "Epoch: 25\n"
          ],
          "name": "stdout"
        }
      ]
    }
  ]
}